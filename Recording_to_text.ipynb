{
  "nbformat": 4,
  "nbformat_minor": 0,
  "metadata": {
    "colab": {
      "provenance": [],
      "gpuType": "T4",
      "authorship_tag": "ABX9TyNzmgl3jFTc0gjXw5kAZgDi",
      "include_colab_link": true
    },
    "kernelspec": {
      "name": "python3",
      "display_name": "Python 3"
    },
    "language_info": {
      "name": "python"
    },
    "accelerator": "GPU"
  },
  "cells": [
    {
      "cell_type": "markdown",
      "metadata": {
        "id": "view-in-github",
        "colab_type": "text"
      },
      "source": [
        "<a href=\"https://colab.research.google.com/github/Anujesh-Ansh/Audio2Text/blob/main/Recording_to_text.ipynb\" target=\"_parent\"><img src=\"https://colab.research.google.com/assets/colab-badge.svg\" alt=\"Open In Colab\"/></a>"
      ]
    },
    {
      "cell_type": "code",
      "execution_count": null,
      "metadata": {
        "id": "N0434V4MqL8m"
      },
      "outputs": [],
      "source": [
        "!pip install git+https://github.com/openai/whisper.git\n",
        "!sudo apt update && sudo apt install ffmpeg"
      ]
    },
    {
      "cell_type": "code",
      "source": [
        "!whisper \"dishkaRajawat.m4a\" --model large --language English"
      ],
      "metadata": {
        "colab": {
          "base_uri": "https://localhost:8080/"
        },
        "id": "43wY7zKJxTH2",
        "outputId": "a0b70780-9f31-49da-8bcc-bed9e1f62978"
      },
      "execution_count": null,
    },
    {
      "cell_type": "code",
      "source": [
        "!whisper \"audio1397603380.m4a\" --model medium.en"
      ],
      "metadata": {
        "id": "tAvwZsaYQqSZ"
      },
      "execution_count": null,
      "outputs": []
    },
    {
      "cell_type": "code",
      "source": [
        "!whisper \"Nu.mp3\" --model medium.en"
      ],
      "metadata": {
        "id": "UoIka8gZsiSe"
      },
      "execution_count": null,
      "outputs": []
    },
    {
      "cell_type": "code",
      "source": [
        "!whisper \"yoga.wav\" --model large"
      ],
      "metadata": {
        "id": "Lq6Yn8Jgt2Tl"
      },
      "execution_count": null,
      "outputs": []
    },
    {
      "cell_type": "code",
      "source": [
        "!whisper \"supply.mp3\" --model large"
      ],
      "metadata": {
        "id": "S5bse5uTxYII"
      },
      "execution_count": null,
      "outputs": []
    },
    {
      "cell_type": "code",
      "source": [
        "!whisper \"ten.mp3\" --model medium.en"
      ],
      "metadata": {
        "id": "fQiPNnj5z_mx"
      },
      "execution_count": null,
      "outputs": []
    },
    {
      "cell_type": "code",
      "source": [
        "!whisper \"Ravi.aac\" --model large --language English"
      ],
      "metadata": {
        "id": "GyRdmIYxdYvG"
      },
      "execution_count": null,
      "outputs": []
    },
    {
      "cell_type": "code",
      "source": [
        "!whisper \"Darshan.m4a\" --model large --language English"
      ],
      "metadata": {
        "id": "sEfvJJrlaK2Z"
      },
      "execution_count": null,
      "outputs": []
    },
    {
      "cell_type": "code",
      "source": [
        "!whisper \"Jashan.m4a\" --model large --language English"
      ],
      "metadata": {
        "id": "Y3FuROVdlweJ"
      },
      "execution_count": null,
      "outputs": []
    },
    {
      "cell_type": "code",
      "source": [
        "!whisper \"audio1215484601.m4a\" --model large --language English"
      ],
      "metadata": {
        "id": "nTfLz9gGZo6G"
      },
      "execution_count": null,
      "outputs": []
    }
  ]
}
