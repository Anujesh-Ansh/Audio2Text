{
  "nbformat": 4,
  "nbformat_minor": 0,
  "metadata": {
    "colab": {
      "provenance": [],
      "gpuType": "T4",
      "authorship_tag": "ABX9TyNzmgl3jFTc0gjXw5kAZgDi",
      "include_colab_link": true
    },
    "kernelspec": {
      "name": "python3",
      "display_name": "Python 3"
    },
    "language_info": {
      "name": "python"
    },
    "accelerator": "GPU"
  },
  "cells": [
    {
      "cell_type": "markdown",
      "metadata": {
        "id": "view-in-github",
        "colab_type": "text"
      },
      "source": [
        "<a href=\"https://colab.research.google.com/github/Anujesh-Ansh/Audio2Text/blob/main/Recording_to_text.ipynb\" target=\"_parent\"><img src=\"https://colab.research.google.com/assets/colab-badge.svg\" alt=\"Open In Colab\"/></a>"
      ]
    },
    {
      "cell_type": "code",
      "execution_count": null,
      "metadata": {
        "id": "N0434V4MqL8m"
      },
      "outputs": [],
      "source": [
        "!pip install git+https://github.com/openai/whisper.git\n",
        "!sudo apt update && sudo apt install ffmpeg"
      ]
    },
    {
      "cell_type": "code",
      "source": [
        "!whisper \"dishkaRajawat.m4a\" --model large --language English"
      ],
      "metadata": {
        "colab": {
          "base_uri": "https://localhost:8080/"
        },
        "id": "43wY7zKJxTH2",
        "outputId": "a0b70780-9f31-49da-8bcc-bed9e1f62978"
      },
      "execution_count": null,
      "outputs": [
        {
          "output_type": "stream",
          "name": "stdout",
          "text": [
            "100%|█████████████████████████████████████| 2.88G/2.88G [00:33<00:00, 91.3MiB/s]\n",
            "[00:00.000 --> 00:08.520]  welcome back everyone to the channel myself anujesh and today brothers we are having\n",
            "[00:08.520 --> 00:17.440]  deeksha rajav so hi mom hi good morning good morning so can you share us with the story of\n",
            "[00:17.440 --> 00:24.380]  fulshan golabchand jewelers and how it evolved during the years um fulshan golabchand jewelers\n",
            "[00:24.380 --> 00:30.220]  has been started by my grandmother she is the one who took the lead to start a business\n",
            "[00:30.220 --> 00:37.200]  as opposed to my grandfather he's actually a college graduate from that generation so i'm\n",
            "[00:37.200 --> 00:43.420]  the third generation that is taking over the business so my grandmother came from a business\n",
            "[00:43.420 --> 00:51.340]  family and she's like no i'm not going to be okay you know settling down and living you know um\n",
            "[00:51.980 --> 00:54.300]  with you know a job security is\n",
            "[00:54.300 --> 00:58.700]  not that you know great so it's like i want to start my own business so i'm going to get ahead\n",
            "[00:58.700 --> 01:05.860]  with that so she mortgaged all of her wedding jewels and she put up the store she uh made all\n",
            "[01:05.860 --> 01:13.160]  of her three sons join the store they're like no you guys have to work with me and um now again uh\n",
            "[01:13.160 --> 01:18.480]  the history is repeating and again fulshan golabchand is back to the third generation which\n",
            "[01:18.480 --> 01:24.280]  is led by a female again so that is what how uh it has been shaped\n",
            "[01:24.300 --> 01:25.880]  and what the journey has been\n",
            "[01:25.880 --> 01:33.460]  so what inspired the traditional transition from traditional geru and big ghantas to polki and\n",
            "[01:33.460 --> 01:37.060]  diamond jewelries while still maintaining a connection to your roots\n",
            "[01:37.060 --> 01:45.300]  so basically the traditional gerus and the big ghantas which weigh around you know\n",
            "[01:45.300 --> 01:52.420]  minimum of 200 grams were our essential wedding jewel uh jewels for the maharashtrans for\n",
            "[01:52.420 --> 01:53.680]  basically the\n",
            "[01:54.300 --> 02:00.800]  residing in the state of Maharashtra so that is their cultural and mandatory\n",
            "[02:00.800 --> 02:07.560]  wedding jewel but now as I'm seeing the customer trends that you know even those\n",
            "[02:07.560 --> 02:16.240]  people who are so cultural and so much into their cultural beliefs so they are\n",
            "[02:16.240 --> 02:20.180]  the ones coming up to us and saying that no we want to try something which is in\n",
            "[02:20.180 --> 02:23.340]  fashion right now we want to try something that is in trend we are seeing\n",
            "[02:23.340 --> 02:29.280]  Sellads wearing all these polkis and diamonds we want to you know have some\n",
            "[02:29.280 --> 02:34.160]  mixture in such things so if you can create some Gantons and some\n",
            "[02:34.160 --> 02:39.420]  traditional jewelry for us with a touch of polki we would really love to see\n",
            "[02:39.420 --> 02:43.620]  that so that is how the customers have bought the transition to us so and we\n",
            "[02:43.620 --> 02:49.340]  are really happy that they have bought that. So how do you ensure that the value\n",
            "[02:49.340 --> 02:53.180]  of honesty, trust and respect are reflected in each and every aspect\n",
            "[02:53.180 --> 02:53.340]  of the process?\n",
            "[02:53.340 --> 03:02.480]  of your business operation okay so um in every facet of our organization we make sure we uphold\n",
            "[03:02.480 --> 03:11.040]  these values because these are the you know the very much ground where our firm operates from\n",
            "[03:11.040 --> 03:18.180]  so these values not you know shape our everyday interactions with our clients be it our\n",
            "[03:18.180 --> 03:23.860]  manufacturers be it our artisans and everyone the relationships that we have or whatever\n",
            "[03:23.860 --> 03:29.880]  decisions that we have to take so for instance how do you show this kind of honesty you show\n",
            "[03:29.880 --> 03:36.920]  honesty in from the client perspective in the way of transparent pricing when it comes to trust\n",
            "[03:36.920 --> 03:43.920]  oh you know again transparent pricing works making them informed that these are the quality\n",
            "[03:43.920 --> 03:48.120]  of diamonds that have been used this is the grade these are the certification marks\n",
            "[03:48.180 --> 03:54.740]  of your um gold hallmarking is very important in gold so you make sure we also educate the\n",
            "[03:54.740 --> 04:00.280]  clients that please check if not from us if you buy or from wherever you buy make sure you are\n",
            "[04:00.280 --> 04:06.480]  educated about certain things then when it comes to respect it is very easy you give respect you\n",
            "[04:06.480 --> 04:12.200]  take respect that is how it works so it is very important from my business point of view and\n",
            "[04:12.200 --> 04:18.000]  customer point of view because whatever you said to them whatever you have done for them they\n",
            "[04:18.000 --> 04:18.160]  won't\n",
            "[04:18.180 --> 04:23.460]  remember that but how you make them feel is what they're going to make you know always remember and\n",
            "[04:23.460 --> 04:29.220]  make them come back to us again so and from business point of view it's like your team\n",
            "[04:29.220 --> 04:35.340]  should also be you know support you know supported it should not be like my you know my we are not\n",
            "[04:35.340 --> 04:41.040]  getting anything from the employer so having a very supportive work culture and making sure that\n",
            "[04:41.040 --> 04:48.020]  your business staff is also well respected is very important so could you\n",
            "[04:48.180 --> 04:54.120]  elaborate on the significance of Kolkata artisans in crafting the exceptional jewelry pieces for\n",
            "[04:54.120 --> 05:04.140]  Fulch and Gulabchand so um most of the artisans that we have are 90 from Kolkata because it has\n",
            "[05:04.140 --> 05:12.900]  said no one can reach the hand of finesse from Kolkata designers the minimal the minute work\n",
            "[05:12.900 --> 05:17.580]  the minute detailing there is actually there are some pieces which are called as Kolkatti\n",
            "[05:18.180 --> 05:24.540]  you know Kolkatti necklace Kolkatti earrings it has this a pattern of Jaal and that Jaal is so\n",
            "[05:24.540 --> 05:32.580]  delicate it is so intricate that it takes almost 20 days to create one necklace and you can't make\n",
            "[05:32.580 --> 05:40.020]  this in Bombay you have to send it to the artisans who are there so the the finesse the color of the\n",
            "[05:40.020 --> 05:47.160]  gold whatever the methods they use it's just we can't even explain it to words it's just that very\n",
            "[05:47.160 --> 05:48.000]  different when you\n",
            "[05:48.000 --> 05:54.660]  actually see that work is being happening the dedication they put into the work is amazing they\n",
            "[05:54.660 --> 05:59.100]  then just forget whatever is around themselves they're into the work and they literally pour\n",
            "[05:59.100 --> 06:07.260]  their heart and soul in putting that work it's really amazing so what says Fulch and Gulabchand\n",
            "[06:07.260 --> 06:16.980]  apart from other jewelry brands in terms of design Innovation and exclusivity um I would say different\n",
            "[06:18.000 --> 06:27.000]  is once a week my father and I we sit together in his office we go back through our archives we\n",
            "[06:27.000 --> 06:33.960]  make sure what all designs we have created and what we can make something new because of course\n",
            "[06:33.960 --> 06:40.200]  there are so many designers there's so many people who are out there and creating so fantastic joures\n",
            "[06:40.200 --> 06:46.440]  we go through our archives we make sure we okay this was the best seller of this decade this was\n",
            "[06:46.440 --> 06:53.020]  good seller in the mid 2000s these were the best seller we make sure that we try and make some\n",
            "[06:53.020 --> 06:59.560]  combinations with them so my father and i have this brainstorming session once a week and we'll\n",
            "[06:59.560 --> 07:04.500]  bring that you know just the statement piece and make sure you give some uh very modern touch\n",
            "[07:04.500 --> 07:09.960]  with help of gemstones with help of some you know diamond linings with help some of\n",
            "[07:09.960 --> 07:16.340]  polki or some meena work and we make sure okay is this working with the clients this is not\n",
            "[07:16.340 --> 07:23.120]  working with the client so it's all how you try and this also helps us bring that okay this is our\n",
            "[07:23.120 --> 07:28.220]  best seller we are reintroducing it again is it creating an impact for our loyal customers are\n",
            "[07:28.220 --> 07:33.440]  they even remembering that so when that recall value they have it's really nice okay that you\n",
            "[07:33.440 --> 07:37.460]  know we have seen this oh this was very good at that point and we are glad you have introduced\n",
            "[07:37.460 --> 07:43.420]  it now again so that is what the feedback we actually work upon and that is how uh i guess\n",
            "[07:43.420 --> 07:44.900]  we bring our exclusivity\n",
            "[07:44.900 --> 07:45.060]  you\n",
            "[07:46.340 --> 07:52.500] , as a woman-led business how do you navigate and thrive in an industry that has historically\n",
            "[07:52.500 --> 08:01.780]  been male dominated ah this is uh so uh i would like to say that being a woman being actually\n",
            "[08:01.780 --> 08:08.660]  a 20 year old woman in the industry the proportion of struggle that i have to go through as compared\n",
            "[08:08.660 --> 08:16.100]  to the other if i compare other 22 year old male is significantly more for me it's like\n",
            "[08:16.100 --> 08:16.320]  oh it's a woman-led business how do you navigate and thrive in an industry that has historically been male dominated\n",
            "[08:16.320 --> 08:22.640]  no she is saying something but she has the backup of her father no but where i am coming from what\n",
            "[08:22.640 --> 08:29.920]  i am trying to convey is i am here to be something of an independent voice i don't want that if i am\n",
            "[08:29.920 --> 08:35.120]  giving one command you go back and you know make sure it's true or not so having that kind\n",
            "[08:35.120 --> 08:40.400]  of support and there were times i was not being taken seriously to be honest and that really\n",
            "[08:40.400 --> 08:46.080]  pinches you when you're just thinking for the benefit of the firm when you know what is going\n",
            "[08:46.080 --> 08:51.440]  outside in the modern world um because not everyone has that kind of exposure if you see\n",
            "[08:51.440 --> 08:59.360]  these artisans they are illiterates they are very creative that is their forte but they don't know\n",
            "[08:59.360 --> 09:04.640]  how the world is going so fast now and you just can't be stuck in a place where you were\n",
            "[09:05.280 --> 09:09.600]  so i am i am there in the world i am seeing what's happening\n",
            "[09:09.600 --> 09:15.840]  how the world is changing so fast so if i want to bring that fast-paced things and make sure that\n",
            "[09:15.840 --> 09:21.920]  we do some things you know that are different from the others there are times that it just you\n",
            "[09:21.920 --> 09:27.360]  know falls on deaf ears so being a woman and especially at this age of course there are many\n",
            "[09:27.360 --> 09:34.000]  women in the uh jewelry sector uh but they come i from my exposure but i think they come from the\n",
            "[09:34.000 --> 09:38.720]  designing point of view they don't come from the point of view that i am coming i come from the\n",
            "[09:38.720 --> 09:43.440]  point of view where i have to look after the finances of the firm i have to look after the\n",
            "[09:43.440 --> 09:45.840]  accounting of the firm i have to look after the purchase the\n",
            "[09:45.840 --> 09:51.840]  decisions of the firm so that becomes more of a you know business administration point of view\n",
            "[09:51.840 --> 09:55.680]  when it comes from a designing point of view it's okay you can be creative they have the liberty to\n",
            "[09:55.680 --> 10:02.320]  be creative and that's where women excel so yeah so it was a bit of a struggle and it is still a\n",
            "[10:02.320 --> 10:10.000]  struggle yes so i hope you do well in your future so could you tell us more about your\n",
            "[10:10.000 --> 10:15.360]  visions of establishing the first Foolchin Gulabchand boutique says specializing in mangal\n",
            "[10:15.840 --> 10:23.120]  sutras and how do you plan to achieve the school okay so this was uh again a past something that\n",
            "[10:23.120 --> 10:29.680]  i would like to share is we were called as house of mangal sutras like before you know from the\n",
            "[10:29.680 --> 10:37.680]  era of i guess uh in the mid 2000 to 2005 we were actually called the house of mangal sutra like\n",
            "[10:37.680 --> 10:44.960]  people were so sure customers were so sure from one gram to 500 grams all ranges of mangal sutras\n",
            "[10:45.840 --> 10:52.320]  in this shop so it's that i have heard all these stories from all of my team members from\n",
            "[10:52.320 --> 10:57.200]  my grandmother from my father that we used to be this we used to have this title\n",
            "[10:57.200 --> 11:03.840]  because we were the sole manufacturers and i used to have these um you know mangal sutras\n",
            "[11:03.840 --> 11:09.360]  ready with us at any point of times and like okay now we've seen the gold prices rising\n",
            "[11:09.360 --> 11:15.680]  making such a big investment also becomes a bit uh you have to think like 300 you know too too many\n",
            "[11:15.840 --> 11:19.920]  times before you know you make and you keep the piece ready and what if it doesn't get sold out\n",
            "[11:19.920 --> 11:27.680]  it's a loss on your part so you have to keep those um things also on your mind but i would love to\n",
            "[11:27.680 --> 11:35.120]  bring that title back so i'm working towards and bringing that title back that okay we were the\n",
            "[11:35.120 --> 11:42.080]  specialized house of mangal sutra i want that title back so i am very sure so i'm i'm starting\n",
            "[11:42.080 --> 11:45.680]  that from root i'm going it's okay the investment is going to be held but it's not going to be sold\n",
            "[11:45.840 --> 11:51.360]  away but you have to do something to gain something you have to put something at risk\n",
            "[11:52.240 --> 11:58.640]  so yeah and if you want to grow and if you want to have that title you just can't delegate it to\n",
            "[11:58.640 --> 12:03.920]  people you cannot delegate growth it is on you so yeah it is on me and i am going to work towards\n",
            "[12:03.920 --> 12:12.480]  that all the best thank you so how do you balance the preservation of tradition with the drive of\n",
            "[12:12.480 --> 12:14.080]  innovation and jewelry design\n",
            "[12:16.240 --> 12:20.640]  many people see these both terms as opposing forces\n",
            "[12:20.640 --> 12:33.280]  i do not see them as opposing forces i feel they really go hand in\n",
            "[12:45.840 --> 12:49.120]  hand in any kind of way\n",
            "[13:13.840 --> 13:15.680]  yeah okay\n",
            "[13:15.840 --> 13:29.960]  So for me, it is an honor for, you know, preserving my legacy, all the craftsmanship that, you know, have come down from generation to generation.\n",
            "[13:30.620 --> 13:33.340]  So as I also said before, that these are not opposing forces.\n",
            "[13:33.520 --> 13:34.920]  These go hand in hand.\n",
            "[13:34.920 --> 13:49.940]  So and it is also imperative for, you know, jewelers to adapt, to adapt to the changing trends, to changing client preferences, because there will be brides coming to you and they will be asking winter jewelry in the times of modern ages.\n",
            "[13:50.120 --> 13:51.880]  So you have to keep that also in mind.\n",
            "[13:51.960 --> 13:58.320]  OK, then you have to cater to that certain brides to those certain clients as well.\n",
            "[13:58.660 --> 14:03.760]  So I guess you just have to integrate the classics and the contemporaries.\n",
            "[14:03.760 --> 14:09.160]  And when you integrate the classics and the contemporaries, you satisfy all the customers.\n",
            "[14:09.860 --> 14:15.000]  So if that is achieved, then I guess everything goes hand in hand.\n",
            "[14:15.280 --> 14:27.480]  So we just aim to curate pieces which are timeless as well as they're relevant to the need of the customer and which are also being relevant to the times that we are in right now.\n",
            "[14:28.480 --> 14:33.480]  So could you share some insights in your creative process and how do you go about creating?\n",
            "[14:33.760 --> 14:38.480]  How do you go about creating personalized or one of a kind jewelry for pieces for your clients?\n",
            "[14:39.280 --> 14:47.680]  So one thing that we always live by is just know what your customer wants the most.\n",
            "[14:47.880 --> 14:52.640]  See what you are doing the best and meet and make a combination out of that.\n",
            "[14:52.840 --> 14:54.880]  You're going to have something very beautiful.\n",
            "[14:55.080 --> 15:00.080]  So the process, what it starts from is we hear out the client first.\n",
            "[15:00.280 --> 15:03.660]  We hear the customer. What are they exactly looking for?\n",
            "[15:03.960 --> 15:06.880]  What is something is there in their mind?\n",
            "[15:07.080 --> 15:13.320]  What is something that if there is a story, is there is some sentiment?\n",
            "[15:13.520 --> 15:16.560]  Is there something they would like to showcase in their jewelry piece?\n",
            "[15:16.760 --> 15:21.600]  Because jewelry piece is always very close to one's heart and it's a very big investment.\n",
            "[15:21.800 --> 15:23.640]  So we try to listen to that.\n",
            "[15:23.840 --> 15:28.040]  That are there anything specialized things that you would like to do anything?\n",
            "[15:28.240 --> 15:32.880]  And then once we get that input from the client, we make sure we design something\n",
            "[15:32.880 --> 15:38.160]  on that point of view and we also show them some ready pieces that we have and how\n",
            "[15:38.360 --> 15:42.840]  we can make match and, you know, create a piece.\n",
            "[15:43.040 --> 15:47.560]  Then we have the designing team design them on whatever has been conveyed to us.\n",
            "[15:47.760 --> 15:53.160]  Then we send them the design PDF that, you know, just see that we have made this\n",
            "[15:53.360 --> 15:57.760]  design and if you want any changes, any color changes or anything\n",
            "[15:57.960 --> 16:02.000]  so we can convey before starting it actually in the artisan process.\n",
            "[16:02.000 --> 16:06.880]  So once we once I get the go ahead, the journey is then passed on to the artisans\n",
            "[16:07.080 --> 16:11.400]  where, you know, they do their magic, it is what the magic they do.\n",
            "[16:11.600 --> 16:14.440]  It's given to them even they need a good amount of time.\n",
            "[16:14.640 --> 16:20.200]  So I guess you the more there is a relationship, the better the communication\n",
            "[16:20.400 --> 16:29.440]  is there between those client and us, the better we can create some designer pieces for them.\n",
            "[16:29.640 --> 16:31.920]  So it just, you know, does it.\n",
            "[16:32.120 --> 16:35.200]  I just don't want them pieces which are, you know, just kept.\n",
            "[16:35.240 --> 16:36.240]  Oh, it's a jewelry piece.\n",
            "[16:36.440 --> 16:40.160]  It's like, oh, it becomes an heirloom and then they can remember, oh,\n",
            "[16:40.360 --> 16:44.600]  this jewelry piece has its meaning, it has, you know, there's a meaning behind it.\n",
            "[16:44.800 --> 16:46.520]  And there are some memories behind it.\n",
            "[16:46.720 --> 16:48.360]  So that is what I aim to create.\n",
            "[16:48.560 --> 16:52.160]  I just don't want, you know, OK, this is just a statement jewelry piece.\n",
            "[16:52.360 --> 16:55.440]  No, that is not what I am.\n",
            "[16:55.640 --> 17:01.680]  So what strategies do you employ to ensure that Pulch and Gulabchand remains at the forefront of the jewelry\n",
            "[17:02.000 --> 17:03.560]  industry in Mumbai?\n",
            "[17:05.280 --> 17:09.760]  First, make a customer, not a sale.\n",
            "[17:09.960 --> 17:12.880]  Build a relationship with a customer.\n",
            "[17:13.080 --> 17:16.720]  Second, just don't leave your customer satisfied.\n",
            "[17:16.920 --> 17:19.280]  Never settle for satisfied.\n",
            "[17:19.480 --> 17:21.680]  Make him a loyal customer.\n",
            "[17:21.880 --> 17:25.680]  When there is customer loyalty, he's not going to go anywhere.\n",
            "[17:25.880 --> 17:27.200]  He's going to come back.\n",
            "[17:27.400 --> 17:31.920]  So these are two main points that we always remember.\n",
            "[17:32.120 --> 17:35.080]  That make sure the firm loves the customer.\n",
            "[17:35.280 --> 17:40.200]  When a firm loves a customer, the customer is going to love you back much more.\n",
            "[17:40.400 --> 17:44.600]  So these are three principles that we have always in our mind.\n",
            "[17:44.800 --> 17:51.120]  What other strategies we also put is that's not most of a strategy.\n",
            "[17:51.320 --> 17:55.960]  It is like your dedication, your honesty and your sincerity.\n",
            "[17:56.160 --> 18:01.080]  If you're honest, dedicated and sincere with the clients and with everyone.\n",
            "[18:01.200 --> 18:08.960]  I don't think there are any other reasons that you can't be at the top of your game or you can be at the forefront.\n",
            "[18:09.160 --> 18:15.720]  So and also, you know, being such a fast paced environment, you have to be, you know,\n",
            "[18:15.920 --> 18:18.880]  very well attuned with all the trends that are going on.\n",
            "[18:19.080 --> 18:20.680]  Who is wearing what, what?\n",
            "[18:20.880 --> 18:23.120]  There was a trend of diamonds.\n",
            "[18:23.320 --> 18:26.360]  Now there is a trend of colorful diamonds.\n",
            "[18:26.560 --> 18:30.160]  Like citron diamonds, there are pink diamonds, there are aquamarine diamonds.\n",
            "[18:30.160 --> 18:35.480]  So you have to make sure that you also bring those into the store and you're not, you know, somewhere behind.\n",
            "[18:35.680 --> 18:37.080]  Then.\n",
            "[18:37.280 --> 18:42.080]  But also comes that what are you know, what are going to be the future anticipations?\n",
            "[18:42.280 --> 18:45.000]  Is there going to be you can anticipate the future?\n",
            "[18:45.200 --> 18:47.680]  Are there going to be the gold prices are going to go up?\n",
            "[18:47.880 --> 18:48.960]  Are they going to go down?\n",
            "[18:49.160 --> 18:54.120]  How how are you going to, you know, the more benefit you think of the customers that,\n",
            "[18:54.120 --> 18:58.080]  OK, the prices are going to rise up now if you want to make a purchase, make it right now.\n",
            "[18:58.280 --> 18:59.960]  So when you think of the benefit of the\n",
            "[19:00.160 --> 19:04.080]  customers, they really trust you and if they trust you,\n",
            "[19:04.280 --> 19:11.200]  they'll bring 10 more clients with them and you get more of a pool of trust.\n",
            "[19:11.400 --> 19:15.760]  And that is what, you know, word of mouth, a positive word of mouth is invaluable.\n",
            "[19:15.960 --> 19:21.080]  So these are the things that keep you, you know, at the forefront.\n",
            "[19:21.280 --> 19:24.040]  So with this, we come to the end of the interview,\n",
            "[19:24.240 --> 19:28.360]  so something that you would like to share with our viewers.\n",
            "[19:28.560 --> 19:29.600]  What I\n",
            "[19:30.160 --> 19:34.040]  want to generally share is many people have given me the backlash that you're\n",
            "[19:34.240 --> 19:37.080]  just at 22 and you still don't know the world.\n",
            "[19:37.280 --> 19:39.240]  Yeah, I agree. I still don't know the world.\n",
            "[19:39.440 --> 19:41.800]  I'm currently in Dubai and I'm\n",
            "[19:42.000 --> 19:45.240]  figuring out how the gold market works here.\n",
            "[19:45.440 --> 19:49.600]  I am trying to get some exposure that what are the things I can do?\n",
            "[19:49.800 --> 19:54.800]  So the first thing is do not focus on the competitor, focus on your customers.\n",
            "[19:55.000 --> 19:56.160]  That is what I've learned here.\n",
            "[19:56.360 --> 20:00.080]  And it is a very big learning from me from here.\n",
            "[20:00.280 --> 20:05.760]  And to never give an excuse whenever you have to work long hours.\n",
            "[20:05.960 --> 20:08.680]  I work long hours and it's OK.\n",
            "[20:08.880 --> 20:10.280]  I absolutely love my work.\n",
            "[20:10.480 --> 20:15.200]  So if you have love for your work, you're not going to see the ticking time.\n",
            "[20:15.400 --> 20:17.360]  So be in love with your work.\n",
            "[20:17.560 --> 20:21.040]  Have a very big smile and focus on your customers.\n",
            "[20:21.240 --> 20:24.880]  That is the future.\n",
            "[20:25.080 --> 20:30.040]  Once again, thank you and it was great talking to you and all the best\n",
            "[20:30.280 --> 20:32.520]  for your future ambitions.\n",
            "[20:32.720 --> 20:33.840]  Definitely. Thank you.\n",
            "[20:34.040 --> 20:34.680]  Thank you so much.\n"
          ]
        }
      ]
    },
    {
      "cell_type": "code",
      "source": [
        "!whisper \"audio1397603380.m4a\" --model medium.en"
      ],
      "metadata": {
        "id": "tAvwZsaYQqSZ"
      },
      "execution_count": null,
      "outputs": []
    },
    {
      "cell_type": "code",
      "source": [
        "!whisper \"Nu.mp3\" --model medium.en"
      ],
      "metadata": {
        "id": "UoIka8gZsiSe"
      },
      "execution_count": null,
      "outputs": []
    },
    {
      "cell_type": "code",
      "source": [
        "!whisper \"yoga.wav\" --model large"
      ],
      "metadata": {
        "id": "Lq6Yn8Jgt2Tl"
      },
      "execution_count": null,
      "outputs": []
    },
    {
      "cell_type": "code",
      "source": [
        "!whisper \"supply.mp3\" --model large"
      ],
      "metadata": {
        "id": "S5bse5uTxYII"
      },
      "execution_count": null,
      "outputs": []
    },
    {
      "cell_type": "code",
      "source": [
        "!whisper \"ten.mp3\" --model medium.en"
      ],
      "metadata": {
        "id": "fQiPNnj5z_mx"
      },
      "execution_count": null,
      "outputs": []
    },
    {
      "cell_type": "code",
      "source": [
        "!whisper \"Ravi.aac\" --model large --language English"
      ],
      "metadata": {
        "id": "GyRdmIYxdYvG"
      },
      "execution_count": null,
      "outputs": []
    },
    {
      "cell_type": "code",
      "source": [
        "!whisper \"Darshan.m4a\" --model large --language English"
      ],
      "metadata": {
        "id": "sEfvJJrlaK2Z"
      },
      "execution_count": null,
      "outputs": []
    },
    {
      "cell_type": "code",
      "source": [
        "!whisper \"Jashan.m4a\" --model large --language English"
      ],
      "metadata": {
        "id": "Y3FuROVdlweJ"
      },
      "execution_count": null,
      "outputs": []
    },
    {
      "cell_type": "code",
      "source": [
        "!whisper \"audio1215484601.m4a\" --model large --language English"
      ],
      "metadata": {
        "id": "nTfLz9gGZo6G"
      },
      "execution_count": null,
      "outputs": []
    }
  ]
}